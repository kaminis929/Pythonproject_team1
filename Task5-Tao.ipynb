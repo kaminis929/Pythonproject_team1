{
 "cells": [
  {
   "cell_type": "code",
   "execution_count": 1,
   "id": "7ef7e19c-7a5a-436c-9ac0-753f4f2ae3f5",
   "metadata": {},
   "outputs": [],
   "source": [
    "# DataLogger Class (Optional for Logging Kinetic Energy) Task 5\n",
    "class DataLogger:\n",
    "    @staticmethod\n",
    "    def calculate_kinetic_energy(particles):\n",
    "        total_ke = 0\n",
    "        for p in particles:\n",
    "            speed_squared = p.vx*2 + p.vy2 + p.vz*2\n",
    "            total_ke += 0.5 * p.mass * speed_squared\n",
    "        return total_ke"
   ]
  },
  {
   "cell_type": "code",
   "execution_count": null,
   "id": "0c05b8cf-a573-4ed9-91a3-c5dace764e47",
   "metadata": {},
   "outputs": [],
   "source": []
  }
 ],
 "metadata": {
  "kernelspec": {
   "display_name": "anaconda-2024.02-py310",
   "language": "python",
   "name": "conda-env-anaconda-2024.02-py310-py"
  },
  "language_info": {
   "codemirror_mode": {
    "name": "ipython",
    "version": 3
   },
   "file_extension": ".py",
   "mimetype": "text/x-python",
   "name": "python",
   "nbconvert_exporter": "python",
   "pygments_lexer": "ipython3",
   "version": "3.10.14"
  }
 },
 "nbformat": 4,
 "nbformat_minor": 5
}
