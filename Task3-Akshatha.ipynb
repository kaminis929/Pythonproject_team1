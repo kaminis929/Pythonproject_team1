{
 "cells": [
  {
   "cell_type": "code",
   "execution_count": 3,
   "id": "eff70772-747b-4eae-8338-f45a8c272628",
   "metadata": {},
   "outputs": [],
   "source": [
    "# Updated Simulation Controller with Kinetic Energy Tracking Task 3\n",
    "class SimulationController:\n",
    "    def _init_(self, width, height, depth, num_particles, fps, restitution):\n",
    "        self.width = width\n",
    "        self.height = height\n",
    "        self.depth = depth  # Added depth for 3D space\n",
    "        self.num_particles = num_particles\n",
    "        self.fps = fps\n",
    "        self.restitution = restitution\n",
    "        self.particles = []\n",
    "        self.energies = []  # List to track kinetic energy over time"
   ]
  },
  {
   "cell_type": "code",
   "execution_count": null,
   "id": "95d0436e-e602-41ce-bca8-2dcd73a79999",
   "metadata": {},
   "outputs": [],
   "source": []
  }
 ],
 "metadata": {
  "kernelspec": {
   "display_name": "anaconda-2024.02-py310",
   "language": "python",
   "name": "conda-env-anaconda-2024.02-py310-py"
  },
  "language_info": {
   "codemirror_mode": {
    "name": "ipython",
    "version": 3
   },
   "file_extension": ".py",
   "mimetype": "text/x-python",
   "name": "python",
   "nbconvert_exporter": "python",
   "pygments_lexer": "ipython3",
   "version": "3.10.14"
  }
 },
 "nbformat": 4,
 "nbformat_minor": 5
}
