{
 "cells": [
  {
   "cell_type": "code",
   "execution_count": 3,
   "id": "a19f0098-f2e7-42b1-8097-b452d8d3a821",
   "metadata": {},
   "outputs": [],
   "source": [
    "# Collider Class Task 2\n",
    "class Collider:\n",
    "    @staticmethod\n",
    "    def check_collision(p1, p2):\n",
    "        dx = p1.x - p2.x\n",
    "        dy = p1.y - p2.y\n",
    "        dz = p1.z - p2.z  # Include z-dimension\n",
    "        distance = math.sqrt(dx*2 + dy2 + dz*2)\n",
    "        return distance <= p1.radius + p2.radius\n",
    "\n",
    "    @staticmethod\n",
    "    def resolve_collision(p1, p2):\n",
    "        dx = p1.x - p2.x\n",
    "        dy = p1.y - p2.y\n",
    "        dz = p1.z - p2.z  # Include z-dimension\n",
    "        distance = math.sqrt(dx*2 + dy2 + dz*2)\n",
    "        nx = dx / distance\n",
    "        ny = dy / distance\n",
    "        nz = dz / distance\n",
    "\n",
    "        p = 2 * (\n",
    "            (p1.vx * nx + p1.vy * ny + p1.vz * nz) - \n",
    "            (p2.vx * nx + p2.vy * ny + p2.vz * nz)\n",
    "        ) / (p1.mass + p2.mass)\n",
    "\n",
    "        p1.vx -= p * p2.mass * nx\n",
    "        p1.vy -= p * p2.mass * ny\n",
    "        p1.vz -= p * p2.mass * nz\n",
    "        p2.vx += p * p1.mass * nx\n",
    "        p2.vy += p * p1.mass * ny\n",
    "        p2.vz += p * p1.mass * nz\n"
   ]
  },
  {
   "cell_type": "code",
   "execution_count": null,
   "id": "babf14ab-080d-4e38-99d3-1ab33c98e594",
   "metadata": {},
   "outputs": [],
   "source": []
  }
 ],
 "metadata": {
  "kernelspec": {
   "display_name": "anaconda-2024.02-py310",
   "language": "python",
   "name": "conda-env-anaconda-2024.02-py310-py"
  },
  "language_info": {
   "codemirror_mode": {
    "name": "ipython",
    "version": 3
   },
   "file_extension": ".py",
   "mimetype": "text/x-python",
   "name": "python",
   "nbconvert_exporter": "python",
   "pygments_lexer": "ipython3",
   "version": "3.10.14"
  }
 },
 "nbformat": 4,
 "nbformat_minor": 5
}
