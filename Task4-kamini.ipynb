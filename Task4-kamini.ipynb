# Task 4
    def setup_graph(self):
        self.fig = plt.figure()
        self.ax = self.fig.add_subplot(111, projection="3d")
        self.ax.set_xlim(0, self.width)
        self.ax.set_ylim(0, self.height)
        self.ax.set_zlim(0, self.depth)
        self.ax.set_title("3D Particle Simulation")
        self.ax.set_xlabel("X")
        self.ax.set_ylabel("Y")
        self.ax.set_zlabel("Z")

    def update_graph(self):
        self.ax.cla()
        self.ax.set_xlim(0, self.width)
        self.ax.set_ylim(0, self.height)
        self.ax.set_zlim(0, self.depth)
        self.ax.set_title("3D Particle Simulation")
        self.ax.set_xlabel("X")
        self.ax.set_ylabel("Y")
        self.ax.set_zlabel("Z")

        for particle in self.particles:
            self.ax.scatter(particle.x, particle.y, particle.z, color=particle.color)

        plt.draw()
        plt.pause(0.01)

    def calculate_kinetic_energy(self):
        # Calculate total kinetic energy using DataLogger
        total_ke = DataLogger.calculate_kinetic_energy(self.particles)
        self.energies.append(total_ke)
        print(f"Total Kinetic Energy: {total_ke}")

    def run_simulation(self):
        self.setup_graph()
        running = True
        start_time = time.time()
        max_duration = 10

        while running:
            elapsed_time = time.time() - start_time
            if elapsed_time >= max_duration:
                print(f"Simulation stopped after {max_duration} seconds.")
                running = False
                break
            for i, p1 in enumerate(self.particles):
                p1.move()
                p1.bounce(self.width, self.height, self.depth, self.restitution)
                for j in range(i + 1, len(self.particles)):
                    p2 = self.particles[j]
                    if Collider.check_collision(p1, p2):
                        Collider.resolve_collision(p1, p2)

            # Calculate kinetic energy
            self.calculate_kinetic_energy()

            # Update 3D graph
            self.update_graph()

# Main Function
if _name_ == "_main_":
    simulation = SimulationController(100, 100, 100, 20, 60, 0.9)
    simulation.initialize_particles()
    simulation.run_simulation()
