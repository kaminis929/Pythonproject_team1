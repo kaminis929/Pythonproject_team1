{
 "cells": [
  {
   "cell_type": "code",
   "execution_count": 2,
   "id": "c4f274b9-d10a-4c34-b893-a0843ae0b00d",
   "metadata": {},
   "outputs": [
    {
     "ename": "ModuleNotFoundError",
     "evalue": "No module named 'pygame'",
     "output_type": "error",
     "traceback": [
      "\u001b[0;31m---------------------------------------------------------------------------\u001b[0m",
      "\u001b[0;31mModuleNotFoundError\u001b[0m                       Traceback (most recent call last)",
      "Cell \u001b[0;32mIn[2], line 2\u001b[0m\n\u001b[1;32m      1\u001b[0m \u001b[38;5;28;01mimport\u001b[39;00m \u001b[38;5;21;01mrandom\u001b[39;00m\n\u001b[0;32m----> 2\u001b[0m \u001b[38;5;28;01mimport\u001b[39;00m \u001b[38;5;21;01mpygame\u001b[39;00m\n\u001b[1;32m      3\u001b[0m \u001b[38;5;28;01mimport\u001b[39;00m \u001b[38;5;21;01mmatplotlib\u001b[39;00m\u001b[38;5;21;01m.\u001b[39;00m\u001b[38;5;21;01mpyplot\u001b[39;00m \u001b[38;5;28;01mas\u001b[39;00m \u001b[38;5;21;01mplt\u001b[39;00m\n\u001b[1;32m      4\u001b[0m \u001b[38;5;28;01mfrom\u001b[39;00m \u001b[38;5;21;01mmpl_toolkits\u001b[39;00m\u001b[38;5;21;01m.\u001b[39;00m\u001b[38;5;21;01mmplot3d\u001b[39;00m \u001b[38;5;28;01mimport\u001b[39;00m Axes3D\n",
      "\u001b[0;31mModuleNotFoundError\u001b[0m: No module named 'pygame'"
     ]
    }
   ],
   "source": [
    "import random\n",
    "import pygame\n",
    "import matplotlib.pyplot as plt\n",
    "from mpl_toolkits.mplot3d import Axes3D\n",
    "import math\n",
    "import time\n",
    "\n",
    "# Particle Class Task 1\n",
    "class Particle:\n",
    "    def _init_(self, x, y, z, radius, color, mass, vx, vy, vz):\n",
    "        self.x = x\n",
    "        self.y = y\n",
    "        self.z = z  # Added z-coordinate\n",
    "        self.radius = radius\n",
    "        self.color = color\n",
    "        self.mass = mass\n",
    "        self.vx = vx\n",
    "        self.vy = vy\n",
    "        self.vz = vz  # Added velocity in z-direction\n",
    "\n",
    "    def move(self):\n",
    "        self.x += self.vx\n",
    "        self.y += self.vy\n",
    "        self.z += self.vz  # Update z-coordinate\n",
    "\n",
    "    def bounce(self, width, height, depth, restitution):\n",
    "        if self.x - self.radius <= 0 or self.x + self.radius >= width:\n",
    "            self.vx = -self.vx * restitution\n",
    "        if self.y - self.radius <= 0 or self.y + self.radius >= height:\n",
    "            self.vy = -self.vy * restitution\n",
    "        if self.z - self.radius <= 0 or self.z + self.radius >= depth:  # Bounce in z-direction\n",
    "            self.vz = -self.vz * restitution"
   ]
  },
  {
   "cell_type": "code",
   "execution_count": null,
   "id": "4ca67c79-553b-482f-846a-fd74364d3004",
   "metadata": {},
   "outputs": [],
   "source": []
  }
 ],
 "metadata": {
  "kernelspec": {
   "display_name": "anaconda-2024.02-py310",
   "language": "python",
   "name": "conda-env-anaconda-2024.02-py310-py"
  },
  "language_info": {
   "codemirror_mode": {
    "name": "ipython",
    "version": 3
   },
   "file_extension": ".py",
   "mimetype": "text/x-python",
   "name": "python",
   "nbconvert_exporter": "python",
   "pygments_lexer": "ipython3",
   "version": "3.10.14"
  }
 },
 "nbformat": 4,
 "nbformat_minor": 5
}
