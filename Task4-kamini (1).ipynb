{
 "cells": [
  {
   "cell_type": "code",
   "execution_count": 1,
   "id": "a19f0098-f2e7-42b1-8097-b452d8d3a821",
   "metadata": {},
   "outputs": [
    {
     "ename": "IndentationError",
     "evalue": "unexpected indent (3119202499.py, line 2)",
     "output_type": "error",
     "traceback": [
      "\u001b[0;36m  Cell \u001b[0;32mIn[1], line 2\u001b[0;36m\u001b[0m\n\u001b[0;31m    def setup_graph(self):\u001b[0m\n\u001b[0m    ^\u001b[0m\n\u001b[0;31mIndentationError\u001b[0m\u001b[0;31m:\u001b[0m unexpected indent\n"
     ]
    }
   ],
   "source": [
    "# Task 4\n",
    "    def setup_graph(self):\n",
    "        self.fig = plt.figure()\n",
    "        self.ax = self.fig.add_subplot(111, projection=\"3d\")\n",
    "        self.ax.set_xlim(0, self.width)\n",
    "        self.ax.set_ylim(0, self.height)\n",
    "        self.ax.set_zlim(0, self.depth)\n",
    "        self.ax.set_title(\"3D Particle Simulation\")\n",
    "        self.ax.set_xlabel(\"X\")\n",
    "        self.ax.set_ylabel(\"Y\")\n",
    "        self.ax.set_zlabel(\"Z\")\n",
    "\n",
    "    def update_graph(self):\n",
    "        self.ax.cla()\n",
    "        self.ax.set_xlim(0, self.width)\n",
    "        self.ax.set_ylim(0, self.height)\n",
    "        self.ax.set_zlim(0, self.depth)\n",
    "        self.ax.set_title(\"3D Particle Simulation\")\n",
    "        self.ax.set_xlabel(\"X\")\n",
    "        self.ax.set_ylabel(\"Y\")\n",
    "        self.ax.set_zlabel(\"Z\")\n",
    "\n",
    "        for particle in self.particles:\n",
    "            self.ax.scatter(particle.x, particle.y, particle.z, color=particle.color)\n",
    "\n",
    "        plt.draw()\n",
    "        plt.pause(0.01)\n",
    "\n",
    "    def calculate_kinetic_energy(self):\n",
    "        # Calculate total kinetic energy using DataLogger\n",
    "        total_ke = DataLogger.calculate_kinetic_energy(self.particles)\n",
    "        self.energies.append(total_ke)\n",
    "        print(f\"Total Kinetic Energy: {total_ke}\")\n",
    "\n",
    "    def run_simulation(self):\n",
    "        self.setup_graph()\n",
    "        running = True\n",
    "        start_time = time.time()\n",
    "        max_duration = 10\n",
    "\n",
    "        while running:\n",
    "            elapsed_time = time.time() - start_time\n",
    "            if elapsed_time >= max_duration:\n",
    "                print(f\"Simulation stopped after {max_duration} seconds.\")\n",
    "                running = False\n",
    "                break\n",
    "            for i, p1 in enumerate(self.particles):\n",
    "                p1.move()\n",
    "                p1.bounce(self.width, self.height, self.depth, self.restitution)\n",
    "                for j in range(i + 1, len(self.particles)):\n",
    "                    p2 = self.particles[j]\n",
    "                    if Collider.check_collision(p1, p2):\n",
    "                        Collider.resolve_collision(p1, p2)\n",
    "\n",
    "            # Calculate kinetic energy\n",
    "            self.calculate_kinetic_energy()\n",
    "\n",
    "            # Update 3D graph\n",
    "            self.update_graph()\n",
    "\n",
    "# Main Function\n",
    "if _name_ == \"_main_\":\n",
    "    simulation = SimulationController(100, 100, 100, 20, 60, 0.9)\n",
    "    simulation.initialize_particles()\n",
    "    simulation.run_simulation()"
   ]
  },
  {
   "cell_type": "code",
   "execution_count": null,
   "id": "babf14ab-080d-4e38-99d3-1ab33c98e594",
   "metadata": {},
   "outputs": [],
   "source": []
  }
 ],
 "metadata": {
  "kernelspec": {
   "display_name": "anaconda-2024.02-py310",
   "language": "python",
   "name": "conda-env-anaconda-2024.02-py310-py"
  },
  "language_info": {
   "codemirror_mode": {
    "name": "ipython",
    "version": 3
   },
   "file_extension": ".py",
   "mimetype": "text/x-python",
   "name": "python",
   "nbconvert_exporter": "python",
   "pygments_lexer": "ipython3",
   "version": "3.10.14"
  }
 },
 "nbformat": 4,
 "nbformat_minor": 5
}
